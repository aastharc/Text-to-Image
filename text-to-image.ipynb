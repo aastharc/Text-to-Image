{
  "nbformat": 4,
  "nbformat_minor": 0,
  "metadata": {
    "colab": {
      "provenance": [],
      "gpuType": "T4"
    },
    "kernelspec": {
      "name": "python3",
      "display_name": "Python 3"
    },
    "language_info": {
      "name": "python"
    },
    "accelerator": "GPU"
  },
  "cells": [
    {
      "cell_type": "code",
      "source": [
        "pip install gradio"
      ],
      "metadata": {
        "collapsed": true,
        "id": "CDc0Dj_9B63h"
      },
      "execution_count": null,
      "outputs": []
    },
    {
      "cell_type": "code",
      "source": [
        "import torch\n",
        "from PIL import Image\n",
        "from diffusers import StableDiffusionPipeline, StableDiffusionImg2ImgPipeline\n",
        "from diffusers import EulerAncestralDiscreteScheduler\n",
        "\n",
        "#provide your Hugging Face Authentication token\n",
        "#you can obtain your token from https://huggingface.co/settings/tokens\n",
        "auth_token = input(\"Enter your Hugging Face token: \")\n",
        "\n",
        "###   image generation   ###\n",
        "\n",
        "#using stable diffusion version 2.1 for image generation\n",
        "modelid = \"stabilityai/stable-diffusion-2-1\"\n",
        "device = \"cuda\" if torch.cuda.is_available() else \"cpu\"\n",
        "\n",
        "pipe = StableDiffusionPipeline.from_pretrained(\n",
        "    modelid,\n",
        "    revision=\"fp16\",\n",
        "    torch_dtype= torch.float16,\n",
        "    use_auth_token=auth_token,\n",
        "    low_cpu_mem_usage=True\n",
        ")\n",
        "#using EulerAncestralDiscreteScheduler for sharper and detailed images\n",
        "\n",
        "pipe.scheduler = EulerAncestralDiscreteScheduler.from_config(pipe.scheduler.config)\n",
        "\n",
        "\n",
        "###    image modification    ###\n",
        "#using StableDiffusionImg2ImgPipeline for image to image generation\n",
        "pipe.to(device)\n",
        "\n",
        "pipe_img2img = StableDiffusionImg2ImgPipeline.from_pretrained(\"stabilityai/stable-diffusion-2-1\", torch_dtype=torch.float16, low_cpu_mem_usage=True).to(device)\n",
        "pipe_img2img.to(device)\n",
        "\n",
        "import gradio as gr\n",
        "# Function to generate image from text\n",
        "def generate_image(prompt, guidance_scale):\n",
        "    global stored_image\n",
        "    image = pipe(prompt, guidance_scale=guidance_scale).images[0]\n",
        "    stored_image = image\n",
        "    return image\n",
        "\n",
        "# Function to modify image (Img2Img)\n",
        "def modify_image(prompt, strength=0.5):\n",
        "    global stored_image\n",
        "    if stored_image is None:\n",
        "        return \"No generated image available. Generate an image first!\"\n",
        "\n",
        "    stored_image = stored_image.convert(\"RGB\")\n",
        "    modified_image = pipe_img2img(prompt=prompt, image=stored_image, strength=strength, guidance_scale=8.5).images[0]\n",
        "    return modified_image\n",
        "\n",
        "# Gradio UI\n",
        "with gr.Blocks() as demo:\n",
        "    gr.Markdown(\"# Stable Diffusion - Generate & Modify Images\")\n",
        "    with gr.Group():\n",
        "      with gr.Row():\n",
        "        prompt_input = gr.Textbox(label=\"Enter Prompt\", placeholder=\"A futuristic city at sunset\")\n",
        "      with gr.Row():\n",
        "        guidance_input = gr.Slider(1.0, 15.0, value=8.5, label=\"Guidance Scale (More guidance meansthe model follows the prompt very strictly but is less creative)\")  # User can adjust guidance\n",
        "\n",
        "    with gr.Row():\n",
        "      generate_btn = gr.Button(\"Generate\")\n",
        "    with gr.Row():\n",
        "      output_image = gr.Image(label=\"Generated Image\")\n",
        "\n",
        "    generate_btn.click(generate_image, inputs=[prompt_input, guidance_input], outputs=output_image)\n",
        "\n",
        "\n",
        "    # Modify Image (After Generation)\n",
        "    with gr.Tab(\"Modify Image\"):\n",
        "        modify_prompt = gr.Textbox(label=\"Enter modification prompt\")\n",
        "        strength_slider = gr.Slider(0.1, 1.0, value=0.5, label=\"Strength (Higher = More Change)\")\n",
        "        modify_btn = gr.Button(\"Modify\")\n",
        "        modified_output = gr.Image(label=\"Modified Image\")\n",
        "\n",
        "        modify_btn.click(modify_image, inputs=[modify_prompt, strength_slider], outputs=modified_output)\n",
        "\n",
        "# Launch Gradio App\n",
        "demo.launch(share=True)"
      ],
      "metadata": {
        "id": "6IveiamACvSG"
      },
      "execution_count": null,
      "outputs": []
    }
  ]
}